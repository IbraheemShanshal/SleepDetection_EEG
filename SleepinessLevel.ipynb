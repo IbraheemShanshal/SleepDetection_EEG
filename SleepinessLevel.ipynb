{
 "cells": [
  {
   "cell_type": "markdown",
   "source": [
    "This file will be used to test things when it is needed, it will not exist in the final version"
   ],
   "metadata": {
    "collapsed": false
   }
  },
  {
   "cell_type": "code",
   "execution_count": 1,
   "outputs": [
    {
     "name": "stdout",
     "output_type": "stream",
     "text": [
      "Collecting mne\n",
      "  Using cached mne-1.2.3-py3-none-any.whl (7.6 MB)\n",
      "Requirement already satisfied: decorator in c:\\users\\cloud\\anaconda3\\envs\\segp-groupx\\lib\\site-packages (from mne) (5.1.1)\n",
      "Collecting tqdm\n",
      "  Using cached tqdm-4.64.1-py2.py3-none-any.whl (78 kB)\n",
      "Requirement already satisfied: packaging in c:\\users\\cloud\\anaconda3\\envs\\segp-groupx\\lib\\site-packages (from mne) (21.3)\n",
      "Collecting pooch>=1.5\n",
      "  Using cached pooch-1.6.0-py3-none-any.whl (56 kB)\n",
      "Collecting numpy>=1.15.4\n",
      "  Using cached numpy-1.23.5-cp310-cp310-win_amd64.whl (14.6 MB)\n",
      "Requirement already satisfied: jinja2 in c:\\users\\cloud\\anaconda3\\envs\\segp-groupx\\lib\\site-packages (from mne) (3.1.2)\n",
      "Collecting scipy>=1.1.0\n",
      "  Using cached scipy-1.9.3-cp310-cp310-win_amd64.whl (40.1 MB)\n",
      "Collecting matplotlib\n",
      "  Using cached matplotlib-3.6.2-cp310-cp310-win_amd64.whl (7.2 MB)\n",
      "Collecting appdirs>=1.3.0\n",
      "  Using cached appdirs-1.4.4-py2.py3-none-any.whl (9.6 kB)\n",
      "Requirement already satisfied: requests>=2.19.0 in c:\\users\\cloud\\anaconda3\\envs\\segp-groupx\\lib\\site-packages (from pooch>=1.5->mne) (2.28.1)\n",
      "Requirement already satisfied: pyparsing!=3.0.5,>=2.0.2 in c:\\users\\cloud\\anaconda3\\envs\\segp-groupx\\lib\\site-packages (from packaging->mne) (3.0.9)\n",
      "Requirement already satisfied: MarkupSafe>=2.0 in c:\\users\\cloud\\anaconda3\\envs\\segp-groupx\\lib\\site-packages (from jinja2->mne) (2.1.1)\n",
      "Collecting pillow>=6.2.0\n",
      "  Using cached Pillow-9.3.0-cp310-cp310-win_amd64.whl (2.5 MB)\n",
      "Requirement already satisfied: python-dateutil>=2.7 in c:\\users\\cloud\\anaconda3\\envs\\segp-groupx\\lib\\site-packages (from matplotlib->mne) (2.8.2)\n",
      "Collecting kiwisolver>=1.0.1\n",
      "  Using cached kiwisolver-1.4.4-cp310-cp310-win_amd64.whl (55 kB)\n",
      "Collecting contourpy>=1.0.1\n",
      "  Using cached contourpy-1.0.6-cp310-cp310-win_amd64.whl (163 kB)\n",
      "Collecting fonttools>=4.22.0\n",
      "  Using cached fonttools-4.38.0-py3-none-any.whl (965 kB)\n",
      "Collecting cycler>=0.10\n",
      "  Using cached cycler-0.11.0-py3-none-any.whl (6.4 kB)\n",
      "Requirement already satisfied: colorama in c:\\users\\cloud\\anaconda3\\envs\\segp-groupx\\lib\\site-packages (from tqdm->mne) (0.4.5)\n",
      "Requirement already satisfied: six>=1.5 in c:\\users\\cloud\\anaconda3\\envs\\segp-groupx\\lib\\site-packages (from python-dateutil>=2.7->matplotlib->mne) (1.16.0)\n",
      "Requirement already satisfied: idna<4,>=2.5 in c:\\users\\cloud\\anaconda3\\envs\\segp-groupx\\lib\\site-packages (from requests>=2.19.0->pooch>=1.5->mne) (3.4)\n",
      "Requirement already satisfied: charset-normalizer<3,>=2 in c:\\users\\cloud\\anaconda3\\envs\\segp-groupx\\lib\\site-packages (from requests>=2.19.0->pooch>=1.5->mne) (2.0.4)\n",
      "Requirement already satisfied: urllib3<1.27,>=1.21.1 in c:\\users\\cloud\\anaconda3\\envs\\segp-groupx\\lib\\site-packages (from requests>=2.19.0->pooch>=1.5->mne) (1.26.12)\n",
      "Requirement already satisfied: certifi>=2017.4.17 in c:\\users\\cloud\\anaconda3\\envs\\segp-groupx\\lib\\site-packages (from requests>=2.19.0->pooch>=1.5->mne) (2022.9.24)\n",
      "Installing collected packages: appdirs, tqdm, pillow, numpy, kiwisolver, fonttools, cycler, scipy, pooch, contourpy, matplotlib, mne\n",
      "Successfully installed appdirs-1.4.4 contourpy-1.0.6 cycler-0.11.0 fonttools-4.38.0 kiwisolver-1.4.4 matplotlib-3.6.2 mne-1.2.3 numpy-1.23.5 pillow-9.3.0 pooch-1.6.0 scipy-1.9.3 tqdm-4.64.1\n"
     ]
    }
   ],
   "source": [
    "!pip install mne\n"
   ],
   "metadata": {
    "collapsed": false
   }
  },
  {
   "cell_type": "code",
   "execution_count": null,
   "outputs": [],
   "source": [],
   "metadata": {
    "collapsed": false
   }
  }
 ],
 "metadata": {
  "kernelspec": {
   "display_name": "Python 3",
   "language": "python",
   "name": "python3"
  },
  "language_info": {
   "codemirror_mode": {
    "name": "ipython",
    "version": 2
   },
   "file_extension": ".py",
   "mimetype": "text/x-python",
   "name": "python",
   "nbconvert_exporter": "python",
   "pygments_lexer": "ipython2",
   "version": "2.7.6"
  }
 },
 "nbformat": 4,
 "nbformat_minor": 0
}
